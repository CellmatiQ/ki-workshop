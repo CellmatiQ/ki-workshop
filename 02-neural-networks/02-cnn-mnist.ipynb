{
 "cells": [
  {
   "cell_type": "markdown",
   "metadata": {},
   "source": [
    "# Convolutional Neural Networks\n",
    "In diesem Codebeispiel wird das neuronale Netz aus dem vorherigen Beispiel um Convolutions erweitert. Statistische Abhängigkeiten zwischen Bildern können mit dieser Technik modelliert werden.\n",
    "\n",
    "Analog zu dem biologischen Konzept von rezeptiven Feldern werden in CNNs mehrere Bildpunkte auf einmal betrachtet. 3x3 Pixel Filtermatrizen werden über das zu verarbeitende Bild geschoben und mit jedem 3x3-Bildbereich verrechnet (siehe Abbildung).\n",
    "\n",
    "![Convolutions](https://upload.wikimedia.org/wikipedia/commons/4/4f/3D_Convolution_Animation.gif)\n",
    "\n",
    "## Programmbibliotheken einbinden\n",
    "Wie gewohnt werden alle benötigten Module und Klassen importiert."
   ]
  },
  {
   "cell_type": "code",
   "execution_count": 1,
   "metadata": {},
   "outputs": [
    {
     "name": "stderr",
     "output_type": "stream",
     "text": [
      "Using TensorFlow backend.\n"
     ]
    }
   ],
   "source": [
    "import keras\n",
    "import matplotlib.pyplot as plt\n",
    "from keras.datasets import mnist\n",
    "from keras.models import Sequential\n",
    "from keras.layers import Dense, Activation, Conv2D, MaxPooling2D, Dropout, Flatten"
   ]
  },
  {
   "cell_type": "markdown",
   "metadata": {},
   "source": [
    "## MNIST-Datensatz laden\n",
    "Der bekannte MNIST handwritten digits Datensatz wird von `keras.datasets` geladen."
   ]
  },
  {
   "cell_type": "code",
   "execution_count": 2,
   "metadata": {},
   "outputs": [],
   "source": [
    "(x_train, y_train), (x_test, y_test) = mnist.load_data()"
   ]
  },
  {
   "cell_type": "markdown",
   "metadata": {},
   "source": [
    "## Datensatz vorverarbeiten\n",
    "Im ersten Praxisblock wurde das zu verarbeitende Bild für den Input in das Netz durch den _Flatten_-Operator in einen 784-dimensionalen Vektor verwandelt. Bei der Bildverarbeitung mit CNNs geschieht dies nicht, da die Pixel für die Verrechnung mit den Filtermatrizen in ihrer ursprünglichen Anordnung vorliegen müssen."
   ]
  },
  {
   "cell_type": "code",
   "execution_count": 3,
   "metadata": {},
   "outputs": [],
   "source": [
    "# Festlegen der Anzahl möglicher Labels\n",
    "num_classes = 10\n",
    "\n",
    "# Festlegen der Anzahl für das Training genutzter Bilder\n",
    "num_train_images = 2000"
   ]
  },
  {
   "cell_type": "code",
   "execution_count": 4,
   "metadata": {},
   "outputs": [
    {
     "name": "stdout",
     "output_type": "stream",
     "text": [
      "2000 train samples\n",
      "10000 test samples\n"
     ]
    }
   ],
   "source": [
    "# Umwandeln der Bilddaten in 28x28x1 Pixel (1-Kanal Graustufe)\n",
    "x_train = x_train[0:num_train_images].reshape(-1, 28, 28, 1)\n",
    "x_test = x_test.reshape(-1, 28, 28, 1)\n",
    "\n",
    "# Normalisierung der Werte von 0 bis 1\n",
    "x_train = x_train.astype('float32')\n",
    "x_test = x_test.astype('float32')\n",
    "x_train /= 255\n",
    "x_test /= 255\n",
    "\n",
    "print(x_train.shape[0], 'train samples')\n",
    "print(x_test.shape[0], 'test samples')\n",
    "\n",
    "# Konvertieren der Labels in das One-Hot Format\n",
    "y_train = keras.utils.to_categorical(y_train, num_classes)[0:num_train_images]\n",
    "y_test = keras.utils.to_categorical(y_test, num_classes)"
   ]
  },
  {
   "cell_type": "markdown",
   "metadata": {},
   "source": [
    "## Modellarchitektur"
   ]
  },
  {
   "cell_type": "code",
   "execution_count": 35,
   "metadata": {},
   "outputs": [],
   "source": [
    "model = Sequential([\n",
    "    Conv2D(32, kernel_size=(3, 3), activation='relu', input_shape=(28, 28, 1)),\n",
    "    Conv2D(64, (3, 3), activation='relu'),\n",
    "    Conv2D(128, (3, 3), activation='relu'),\n",
    "    MaxPooling2D(pool_size=(2, 2)),\n",
    "    Flatten(),\n",
    "    Dense(128, activation='relu'),\n",
    "    Dense(num_classes, activation='softmax')\n",
    "])"
   ]
  },
  {
   "cell_type": "code",
   "execution_count": 36,
   "metadata": {},
   "outputs": [],
   "source": [
    "model.reset_states() \n",
    "model.compile(optimizer='adam',\n",
    "              loss='categorical_crossentropy',\n",
    "              metrics=['accuracy'])"
   ]
  },
  {
   "cell_type": "markdown",
   "metadata": {},
   "source": [
    "## Modell trainieren"
   ]
  },
  {
   "cell_type": "code",
   "execution_count": 37,
   "metadata": {},
   "outputs": [
    {
     "name": "stdout",
     "output_type": "stream",
     "text": [
      "Train on 2000 samples, validate on 500 samples\n",
      "Epoch 1/10\n",
      "2000/2000 [==============================] - 16s 8ms/step - loss: 0.8109 - acc: 0.7435 - val_loss: 0.3155 - val_acc: 0.8980\n",
      "Epoch 2/10\n",
      "2000/2000 [==============================] - 16s 8ms/step - loss: 0.1976 - acc: 0.9445 - val_loss: 0.1567 - val_acc: 0.9440\n",
      "Epoch 3/10\n",
      "2000/2000 [==============================] - 18s 9ms/step - loss: 0.0966 - acc: 0.9720 - val_loss: 0.1969 - val_acc: 0.9380\n",
      "Epoch 4/10\n",
      "2000/2000 [==============================] - 18s 9ms/step - loss: 0.0648 - acc: 0.9795 - val_loss: 0.1066 - val_acc: 0.9640\n",
      "Epoch 5/10\n",
      "2000/2000 [==============================] - 15s 8ms/step - loss: 0.0262 - acc: 0.9920 - val_loss: 0.1499 - val_acc: 0.9420\n",
      "Epoch 6/10\n",
      "2000/2000 [==============================] - 16s 8ms/step - loss: 0.0130 - acc: 0.9970 - val_loss: 0.1048 - val_acc: 0.9660\n",
      "Epoch 7/10\n",
      "2000/2000 [==============================] - 20s 10ms/step - loss: 0.0137 - acc: 0.9965 - val_loss: 0.1583 - val_acc: 0.9400\n",
      "Epoch 8/10\n",
      "2000/2000 [==============================] - 21s 11ms/step - loss: 0.0114 - acc: 0.9980 - val_loss: 0.1492 - val_acc: 0.9680\n",
      "Epoch 9/10\n",
      "2000/2000 [==============================] - 17s 8ms/step - loss: 0.0077 - acc: 0.9975 - val_loss: 0.1610 - val_acc: 0.9640\n",
      "Epoch 10/10\n",
      "2000/2000 [==============================] - 17s 9ms/step - loss: 0.0277 - acc: 0.9890 - val_loss: 0.1849 - val_acc: 0.9520\n"
     ]
    }
   ],
   "source": [
    "training_history = model.fit(x_train, y_train, epochs=10, batch_size=64, validation_data=(x_test[0:500], y_test[0:500]))"
   ]
  },
  {
   "cell_type": "markdown",
   "metadata": {},
   "source": [
    "## Modell evaluieren\n",
    "Wie bereits in dem ersten Beispiel kann die Qualität des trainierten Modells mithilfe des Test-Datensatzes und den Kurven der Loss-Entwicklung beurteilt werden."
   ]
  },
  {
   "cell_type": "code",
   "execution_count": 33,
   "metadata": {},
   "outputs": [
    {
     "data": {
      "image/png": "[encoded data removed]",
      "text/plain": [
       "<Figure size 432x288 with 1 Axes>"
      ]
     },
     "metadata": {
      "needs_background": "light"
     },
     "output_type": "display_data"
    }
   ],
   "source": [
    "plt.plot(training_history.history['loss'])\n",
    "plt.plot(training_history.history['val_loss'])\n",
    "plt.title('Loss-Entwicklung über den Trainingsverlauf')\n",
    "plt.ylabel('loss')\n",
    "plt.xlabel('epoch')\n",
    "plt.legend(['train', 'validation'], loc='upper left')\n",
    "plt.show()"
   ]
  },
  {
   "cell_type": "code",
   "execution_count": 34,
   "metadata": {},
   "outputs": [
    {
     "name": "stdout",
     "output_type": "stream",
     "text": [
      "10000/10000 [==============================] - 4s 428us/step\n"
     ]
    },
    {
     "data": {
      "text/plain": [
       "[0.19811266534477473, 0.9403]"
      ]
     },
     "execution_count": 34,
     "metadata": {},
     "output_type": "execute_result"
    }
   ],
   "source": [
    "model.evaluate(x_test, y_test)"
   ]
  },
  {
   "cell_type": "markdown",
   "metadata": {},
   "source": [
    "## Weiterführende Links\n",
    "\n",
    "[3D visualization of a CNN](http://scs.ryerson.ca/~aharley/vis/conv/): Die Fakultät Computer Science der Universität Ryerson, Kanada hat eine interaktive 3D-Visualisierung entwickelt, um die Funktionsweise von Convolutional Neural Networks nachvollziehbar zu machen.\n",
    "\n",
    "[The Building Blocks of Interpretability](https://distill.pub/2018/building-blocks/) ist eine anschauliche Visualisierung, die zeigt, welche Muster CNNs lernen und wie diese Muster interpretierbar gemacht werden können.\n",
    "\n",
    "[Google Colab: Fashion MNIST](https://colab.research.google.com/github/margaretmz/deep-learning/blob/master/fashion_mnist_keras.ipynb): Das in dieser Aufgabe gelöste MNIST-Beispiel gilt teilweise als abgegriffen und mit heutigen Technologien zu einfach lösbar. Fashion-MNIST ist ein Datensatz zur Klassifizierung von Kleidungsstücken. Das Notebook hierzu läuft auf Google Colab, einer von Google bereitgestellten Jupyter Notebook Umgebung mit kostenlosen GPU-Instanzen.\n",
    "\n",
    "[Seedbank](https://research.google.com/seedbank/seeds?keyword=mlbasics) ist eine Sammlung von interaktiven Jupyter-Notebooks zu den unterschiedlichsten ML- und Deep-Learning-Themen. Alle Notebooks laufen auf Google Colab, weshalb auch hier ein Google Account notwendig ist."
   ]
  },
  {
   "cell_type": "code",
   "execution_count": null,
   "metadata": {},
   "outputs": [],
   "source": []
  }
 ],
 "metadata": {
  "kernelspec": {
   "display_name": "Python 3",
   "language": "python",
   "name": "python3"
  },
  "language_info": {
   "codemirror_mode": {
    "name": "ipython",
    "version": 3
   },
   "file_extension": ".py",
   "mimetype": "text/x-python",
   "name": "python",
   "nbconvert_exporter": "python",
   "pygments_lexer": "ipython3",
   "version": "3.6.7"
  }
 },
 "nbformat": 4,
 "nbformat_minor": 2
}
