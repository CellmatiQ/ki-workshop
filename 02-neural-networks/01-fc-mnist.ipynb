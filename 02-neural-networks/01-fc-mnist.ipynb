{
 "cells": [
  {
   "cell_type": "markdown",
   "metadata": {},
   "source": [
    "# Künstliche Neuronale Netze\n",
    "In diesem Notebook wird ein einfaches fully-connected Neural Network zur Klassifizierung von handgeschriebenen Zahlen demonstriert. Die Deep-Learning Bibliothek [Keras](https://keras.io/) wird genutzt, um für den Einstieg auf einer hohen Abstraktionsebene arbeiten zu können. Keras ist eine zusätzliche Absrtaktionsschicht für das bekannte Framework [TensorFlow](https://tensorflow.org) von Google.\n",
    "\n",
    "![MNIST dataset of handwritten digits](http://neuralnetworksanddeeplearning.com/images/mnist_100_digits.png)\n",
    "\n",
    "Der [MNIST-Datensatz](http://yann.lecun.com/exdb/mnist/) ist ein sehr beliebtes Beispiel, um anhand eines einfachen Klassifizierungsproblems Machine Learning Techniken zu demonstrieren."
   ]
  },
  {
   "cell_type": "markdown",
   "metadata": {},
   "source": [
    "## Programmbiblioteken importieren\n",
    "Neben unterschiedlichen Modulen der Keras-Bibliothek wird `matplotlib` für die Visualisierungen importiert."
   ]
  },
  {
   "cell_type": "code",
   "execution_count": null,
   "metadata": {},
   "outputs": [],
   "source": [
    "import keras\n",
    "import helper\n",
    "import matplotlib.pyplot as plt\n",
    "from keras.datasets import mnist\n",
    "from keras.models import Sequential\n",
    "from keras.layers import Dense, Activation, Dropout, Flatten, Conv2D, MaxPooling2D"
   ]
  },
  {
   "cell_type": "markdown",
   "metadata": {},
   "source": [
    "## Datensatz laden\n",
    "Keras bringt eine [Reihe von Datensätzen](https://keras.io/datasets/) zum Ausprobieren der Bibliothek mit. Mit einem einzigen Funktionsaufruf kann wie folgend der Test- und Trainingsdatensatz in entsprechende Varablen geladen werden."
   ]
  },
  {
   "cell_type": "code",
   "execution_count": null,
   "metadata": {},
   "outputs": [],
   "source": [
    "(x_train, y_train), (x_test, y_test) = mnist.load_data()"
   ]
  },
  {
   "cell_type": "code",
   "execution_count": null,
   "metadata": {},
   "outputs": [],
   "source": [
    "helper.plot_images(x_train[0:9], y_train[0:9])"
   ]
  },
  {
   "cell_type": "code",
   "execution_count": null,
   "metadata": {},
   "outputs": [],
   "source": [
    "num_classes = 10"
   ]
  },
  {
   "cell_type": "code",
   "execution_count": null,
   "metadata": {},
   "outputs": [],
   "source": [
    "x_train = x_train.reshape(-1, 784).astype('float32')\n",
    "x_test = x_test.reshape(-1, 784).astype('float32')\n",
    "x_train /= 255\n",
    "x_test /= 255\n",
    "print(x_train.shape[0], 'train samples')\n",
    "print(x_test.shape[0], 'test samples')\n",
    "\n",
    "# Kodieren der Klassenlabels nach dem One-Hot Prinzip\n",
    "y_train = keras.utils.to_categorical(y_train, num_classes)\n",
    "y_test = keras.utils.to_categorical(y_test, num_classes)"
   ]
  },
  {
   "cell_type": "markdown",
   "metadata": {},
   "source": [
    "## Modellarchitektur\n",
    "\n",
    "\n",
    "![Netzarchtektur für MNIST-Klassifizierung](https://3.bp.blogspot.com/-mDyzBzA4btg/V4_Z0f2mc7I/AAAAAAAAE3M/dtU8hT661fQWtnRC_JvIH_4qifQomZ4PACLcB/s1600/MNIST_neuralnet_image.png)"
   ]
  },
  {
   "cell_type": "code",
   "execution_count": null,
   "metadata": {},
   "outputs": [],
   "source": [
    "model = Sequential([\n",
    "    Dense(512, input_shape=(784,)),\n",
    "    Activation('sigmoid'),\n",
    "    Dense(256),\n",
    "    Activation('sigmoid'),\n",
    "    Dense(10),\n",
    "    Activation('softmax'),\n",
    "])"
   ]
  },
  {
   "cell_type": "code",
   "execution_count": null,
   "metadata": {},
   "outputs": [],
   "source": [
    "# Gegebenenfalls bereits vorhandene Gewichte löschen.\n",
    "model.reset_states()\n",
    "\n",
    "# Optimizer und Loss festlegen und das Modell kompilieren.\n",
    "model.compile(optimizer='adam',\n",
    "              loss='categorical_crossentropy',\n",
    "              metrics=['accuracy'])"
   ]
  },
  {
   "cell_type": "code",
   "execution_count": null,
   "metadata": {},
   "outputs": [],
   "source": [
    "# Train the model, iterating on the data in batches of 32 samples\n",
    "training_history = model.fit(x_train, y_train, epochs=10, batch_size=64)"
   ]
  },
  {
   "cell_type": "code",
   "execution_count": null,
   "metadata": {},
   "outputs": [],
   "source": [
    "model.evaluate(x_test, y_test)"
   ]
  },
  {
   "cell_type": "code",
   "execution_count": null,
   "metadata": {},
   "outputs": [],
   "source": [
    "plt.plot(training_history.history['loss'])\n",
    "#plt.plot(training_history.history['val_loss'])\n",
    "plt.title('Loss-Entwicklung über den Trainingsverlauf')\n",
    "plt.ylabel('loss')\n",
    "plt.xlabel('epoch')\n",
    "plt.legend(['train', 'validation'], loc='upper left')\n",
    "plt.show()"
   ]
  },
  {
   "cell_type": "code",
   "execution_count": null,
   "metadata": {},
   "outputs": [],
   "source": [
    "from keras.utils import plot_model\n",
    "plot_model(model)"
   ]
  },
  {
   "cell_type": "markdown",
   "metadata": {},
   "source": [
    "## Weiterführende Links\n",
    "\n",
    "[TensorFlow Playground](https://playground.tensorflow.org/) ist eine Browserbasierte Simulation eines künstlichen neuronalen Netzes. Es können verschiedene Datensätze ausgewählt, die Modellarchitektur angepasst und der Trainingsprozess überwacht werden."
   ]
  },
  {
   "cell_type": "code",
   "execution_count": null,
   "metadata": {},
   "outputs": [],
   "source": []
  }
 ],
 "metadata": {
  "kernelspec": {
   "display_name": "Python 3",
   "language": "python",
   "name": "python3"
  },
  "language_info": {
   "codemirror_mode": {
    "name": "ipython",
    "version": 3
   },
   "file_extension": ".py",
   "mimetype": "text/x-python",
   "name": "python",
   "nbconvert_exporter": "python",
   "pygments_lexer": "ipython3",
   "version": "3.6.7"
  }
 },
 "nbformat": 4,
 "nbformat_minor": 2
}
