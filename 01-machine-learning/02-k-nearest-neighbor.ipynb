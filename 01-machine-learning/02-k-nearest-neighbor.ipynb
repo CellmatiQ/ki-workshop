{
 "cells": [
  {
   "cell_type": "markdown",
   "metadata": {},
   "source": [
    "# Klassifizierung mit k-Nearest-Neighbor\n",
    "Liegt ein Datensatz vor, in dem neben einem oder mehreren kontinuierlichen Eigenschaften (Features) für jedes Beispiel eine Klassenbezeichnung bekannt ist, kann der [k-Nearest-Neighbor Algorithmus](https://de.wikipedia.org/wiki/N%C3%A4chste-Nachbarn-Klassifikation) (kNN) genutzt werden, um neue Beispiele zu klassifizieren.\n",
    "\n",
    "Dabei wird anhand der Eigensschaften ein ein- oder mehrdimensionaler Vektorraum aufgebaut, und die Beispiele des Datensatzes als Datenpunkte in diesem Raum dargestellt. Kommt ein neuer Datenpunkt hinzu, für den die Klasse bisher unbekannt ist, wird die Klasse der `k` nächsten Nachbarn dieses Datenpunkts betrachtet und für den neuen Punkt übernommen. Es werden die Abstände eines neuen Datenpunktes zu den `k` nähesten Datenpunkten gemessen, um herauszufinden, zu welcher Klasse dieser gehört.\n",
    "\n",
    "![k-Nearest-Neighbor](https://adataanalyst.com/wp-content/uploads/2016/07/kNN-1.png)\n",
    "\n",
    "Der hier genutzte Datensatz wurde bereits [1936 an der UCI Berkeley](https://archive.ics.uci.edu/ml/datasets/Iris) entwickelt und ist wohlmöglich der bekannteste Datensatz im Bereich der Mustererkennung: In diesem Beispiel geht es um die Klassifizierung dreier Arten von Schwertlilien (_lat. Iris_). Wie in der Abbildung unten zu erkennen sind diese drei Arten sehr ähnlich. In dem Datensatz befinden sich neben der Information über die Art die Maße der Kelchblätter (Sepale) und Kronblätter (Petale). In diesem Notebook wird überprüft, ob der kNN-Algorithmus genutzt werden kann, um die drei Schwertlilien-Arten anhand ihrer Blütenmaße zu klassifizieren.\n",
    "\n",
    "![Schwertlilie](https://s3.amazonaws.com/assets.datacamp.com/blog_assets/Machine+Learning+R/iris-machinelearning.png)\n",
    "\n",
    "## Programmbibliotheken importieren\n",
    "Auch hier werden alle notwendigen Module importiert."
   ]
  },
  {
   "cell_type": "code",
   "execution_count": 1,
   "metadata": {},
   "outputs": [],
   "source": [
    "import numpy as np\n",
    "import pylab as pl\n",
    "from matplotlib.colors import ListedColormap\n",
    "from sklearn import neighbors, datasets"
   ]
  },
  {
   "cell_type": "markdown",
   "metadata": {},
   "source": [
    "## Datensatz laden\n",
    "Der Iris-Datensatz wird geladen und die ersten beiden Features (sepal length in cm, sepal width in cm) werden ausgewählt."
   ]
  },
  {
   "cell_type": "code",
   "execution_count": 9,
   "metadata": {},
   "outputs": [],
   "source": [
    "# Datensatz von sklearn.datasets laden\n",
    "iris = datasets.load_iris()\n",
    "\n",
    "# Die ersten beiden Features auswählen und auf X schreiben\n",
    "X = iris.data[:, 2:4]\n",
    "\n",
    "# Klasseinformation auf eine Variable Y schreiben\n",
    "Y = iris.target"
   ]
  },
  {
   "cell_type": "code",
   "execution_count": 10,
   "metadata": {},
   "outputs": [
    {
     "data": {
      "image/png": "[encoded data removed]",
      "text/plain": [
       "<Figure size 288x216 with 1 Axes>"
      ]
     },
     "metadata": {
      "needs_background": "light"
     },
     "output_type": "display_data"
    }
   ],
   "source": [
    "h = .02 # step size in the mesh\n",
    "\n",
    "knn=neighbors.KNeighborsClassifier()\n",
    "\n",
    "# we create an instance of Neighbours Classifier and fit the data.\n",
    "knn.fit(X, Y)\n",
    "\n",
    "# Plot the decision boundary. For that, we will asign a color to each\n",
    "# point in the mesh [x_min, m_max]x[y_min, y_max].\n",
    "x_min, x_max = X[:,0].min() - .5, X[:,0].max() + .5\n",
    "y_min, y_max = X[:,1].min() - .5, X[:,1].max() + .5\n",
    "xx, yy = np.meshgrid(np.arange(x_min, x_max, h), np.arange(y_min, y_max, h))\n",
    "Z = knn.predict(np.c_[xx.ravel(), yy.ravel()])\n",
    "\n",
    "# Farben für die Darstellung festlegen\n",
    "cmap_light = ListedColormap(['#FFAAAA', '#AAFFAA', '#AAAAFF'])\n",
    "cmap_bold = ListedColormap(['#FF0000', '#00FF00', '#0000FF'])\n",
    "\n",
    "# Put the result into a color plot\n",
    "Z = Z.reshape(xx.shape)\n",
    "pl.figure(1, figsize=(4, 3))\n",
    "pl.set_cmap(pl.cm.Paired)\n",
    "pl.pcolormesh(xx, yy, Z, cmap=cmap_light)\n",
    "\n",
    "# Plot also the training points\n",
    "pl.scatter(X[:,0], X[:,1],c=Y, cmap=cmap_bold)\n",
    "pl.xlabel('Sepal length')\n",
    "pl.ylabel('Sepal width')\n",
    "\n",
    "pl.xlim(xx.min(), xx.max())\n",
    "pl.ylim(yy.min(), yy.max())\n",
    "#pl.xticks(())\n",
    "#pl.yticks(())\n",
    "\n",
    "pl.show()"
   ]
  },
  {
   "cell_type": "markdown",
   "metadata": {},
   "source": [
    "## Weiterführende Fragen\n",
    "\n",
    "Wofür könnte das k-nearest-neighbor Verfahren sinnvoll genutzt bzw. erweitert werden, wenn die Labels für die Klassifizierung nicht vorliegen? _Stichwort: Unsupervised Learning_\n",
    "\n",
    "K-nearest-neighbor kann auch für Regressionsprobleme genutzt werden. Wie "
   ]
  },
  {
   "cell_type": "code",
   "execution_count": null,
   "metadata": {},
   "outputs": [],
   "source": []
  }
 ],
 "metadata": {
  "kernelspec": {
   "display_name": "Python 3",
   "language": "python",
   "name": "python3"
  },
  "language_info": {
   "codemirror_mode": {
    "name": "ipython",
    "version": 3
   },
   "file_extension": ".py",
   "mimetype": "text/x-python",
   "name": "python",
   "nbconvert_exporter": "python",
   "pygments_lexer": "ipython3",
   "version": "3.6.7"
  }
 },
 "nbformat": 4,
 "nbformat_minor": 2
}
