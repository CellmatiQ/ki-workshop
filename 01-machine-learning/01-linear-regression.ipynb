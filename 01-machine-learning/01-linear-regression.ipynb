{
 "cells": [
  {
   "cell_type": "markdown",
   "metadata": {},
   "source": [
    "# Lineare Regression am Beispiel von Immobilienpreisen in Boston\n",
    "\n",
    "Regression wird genutzt, um Datensätze mit kontinuierlichen Werten als lineare Funktionen abzubilden. In diesem interaktiven Notebook wird anhand eines Beispiels erklärt, wie lineare Regression mithilfe der Machine Learning Bibliothek [scikit-learn](https://scikit-learn.org) implementiert werden kann.\n",
    "\n",
    "In diesem Beispiel wird lineare Regression genutzt, um Anhand einer oder mehrerer Eigenschaften (Features) eines Datensatzes den mittleren Immobilienpreis in einer Region vorherzusagen. In der Regel werden mehrere solche Features auf einmal genutzt, um Vorhersagen zu treffen. Der Einfachheit halber wird hier pro Modell nur eines verwendet.\n",
    "\n",
    "![Häuser in der Stadt Boston](https://proxy.duckduckgo.com/iu/?u=https%3A%2F%2Fthumbs.dreamstime.com%2Fx%2Fboston-houses-1004400.jpg&f=1)"
   ]
  },
  {
   "cell_type": "markdown",
   "metadata": {},
   "source": [
    "## Programmbibliotheken importieren\n",
    "In der folgenden ausführbaren Zelle werden die benötigten Python-Programmbibliotheken importiert. Nach dem Import stehen alle benötigten Funktionen zur Verfügung.\n",
    "\n",
    "Codezellen können mit `Shift+Enter` ausgeführt werden."
   ]
  },
  {
   "cell_type": "code",
   "execution_count": 2,
   "metadata": {},
   "outputs": [],
   "source": [
    "import matplotlib.pyplot as plt\n",
    "import seaborn as sns\n",
    "import numpy as np\n",
    "import pandas as pd\n",
    "from sklearn import datasets, linear_model\n",
    "from sklearn.model_selection import train_test_split\n",
    "from sklearn.metrics import mean_squared_error, r2_score"
   ]
  },
  {
   "cell_type": "markdown",
   "metadata": {},
   "source": [
    "## Datensatz laden\n",
    "Als nächstes wird das [Boston Housing Prices Dataset](https://www.cs.toronto.edu/%7Edelve/data/boston/bostonDetail.html) von der University of Toronto geladen. Neben den Immobilienpreisen stehen zahlreiche weitere Attribute, wie zum Beispiel Verbrechensrate, Grad der Luftverschmutzung durch Stickoxide oder Schüler/Lehrer-Verhältnis. Später wird überprüft, ob diese Werte einen Anhaltspunkt zur Berechnung der Immobilienpreise geben können bzw. ob eine Korrelation vorliegt.\n",
    "\n",
    "Die ersten fünf Zeilen des Datensatzes werden nach Ausführung der nächsten Codezelle ausgegeben. Eine Legende der einzelnen Spaltenabkürzungen findet sich auf der oben verlinkten Seite."
   ]
  },
  {
   "cell_type": "code",
   "execution_count": 3,
   "metadata": {},
   "outputs": [
    {
     "data": {
      "text/html": [
       "<div>\n",
       "<style scoped>\n",
       "    .dataframe tbody tr th:only-of-type {\n",
       "        vertical-align: middle;\n",
       "    }\n",
       "\n",
       "    .dataframe tbody tr th {\n",
       "        vertical-align: top;\n",
       "    }\n",
       "\n",
       "    .dataframe thead th {\n",
       "        text-align: right;\n",
       "    }\n",
       "</style>\n",
       "<table border=\"1\" class=\"dataframe\">\n",
       "  <thead>\n",
       "    <tr style=\"text-align: right;\">\n",
       "      <th></th>\n",
       "      <th>CRIM</th>\n",
       "      <th>ZN</th>\n",
       "      <th>INDUS</th>\n",
       "      <th>CHAS</th>\n",
       "      <th>NOX</th>\n",
       "      <th>RM</th>\n",
       "      <th>AGE</th>\n",
       "      <th>DIS</th>\n",
       "      <th>RAD</th>\n",
       "      <th>TAX</th>\n",
       "      <th>PTRATIO</th>\n",
       "      <th>B</th>\n",
       "      <th>LSTAT</th>\n",
       "      <th>MEDV</th>\n",
       "    </tr>\n",
       "  </thead>\n",
       "  <tbody>\n",
       "    <tr>\n",
       "      <th>0</th>\n",
       "      <td>0.00632</td>\n",
       "      <td>18.0</td>\n",
       "      <td>2.31</td>\n",
       "      <td>0.0</td>\n",
       "      <td>0.538</td>\n",
       "      <td>6.575</td>\n",
       "      <td>65.2</td>\n",
       "      <td>4.0900</td>\n",
       "      <td>1.0</td>\n",
       "      <td>296.0</td>\n",
       "      <td>15.3</td>\n",
       "      <td>396.90</td>\n",
       "      <td>4.98</td>\n",
       "      <td>24.0</td>\n",
       "    </tr>\n",
       "    <tr>\n",
       "      <th>1</th>\n",
       "      <td>0.02731</td>\n",
       "      <td>0.0</td>\n",
       "      <td>7.07</td>\n",
       "      <td>0.0</td>\n",
       "      <td>0.469</td>\n",
       "      <td>6.421</td>\n",
       "      <td>78.9</td>\n",
       "      <td>4.9671</td>\n",
       "      <td>2.0</td>\n",
       "      <td>242.0</td>\n",
       "      <td>17.8</td>\n",
       "      <td>396.90</td>\n",
       "      <td>9.14</td>\n",
       "      <td>21.6</td>\n",
       "    </tr>\n",
       "    <tr>\n",
       "      <th>2</th>\n",
       "      <td>0.02729</td>\n",
       "      <td>0.0</td>\n",
       "      <td>7.07</td>\n",
       "      <td>0.0</td>\n",
       "      <td>0.469</td>\n",
       "      <td>7.185</td>\n",
       "      <td>61.1</td>\n",
       "      <td>4.9671</td>\n",
       "      <td>2.0</td>\n",
       "      <td>242.0</td>\n",
       "      <td>17.8</td>\n",
       "      <td>392.83</td>\n",
       "      <td>4.03</td>\n",
       "      <td>34.7</td>\n",
       "    </tr>\n",
       "    <tr>\n",
       "      <th>3</th>\n",
       "      <td>0.03237</td>\n",
       "      <td>0.0</td>\n",
       "      <td>2.18</td>\n",
       "      <td>0.0</td>\n",
       "      <td>0.458</td>\n",
       "      <td>6.998</td>\n",
       "      <td>45.8</td>\n",
       "      <td>6.0622</td>\n",
       "      <td>3.0</td>\n",
       "      <td>222.0</td>\n",
       "      <td>18.7</td>\n",
       "      <td>394.63</td>\n",
       "      <td>2.94</td>\n",
       "      <td>33.4</td>\n",
       "    </tr>\n",
       "    <tr>\n",
       "      <th>4</th>\n",
       "      <td>0.06905</td>\n",
       "      <td>0.0</td>\n",
       "      <td>2.18</td>\n",
       "      <td>0.0</td>\n",
       "      <td>0.458</td>\n",
       "      <td>7.147</td>\n",
       "      <td>54.2</td>\n",
       "      <td>6.0622</td>\n",
       "      <td>3.0</td>\n",
       "      <td>222.0</td>\n",
       "      <td>18.7</td>\n",
       "      <td>396.90</td>\n",
       "      <td>5.33</td>\n",
       "      <td>36.2</td>\n",
       "    </tr>\n",
       "  </tbody>\n",
       "</table>\n",
       "</div>"
      ],
      "text/plain": [
       "      CRIM    ZN  INDUS  CHAS    NOX     RM   AGE     DIS  RAD    TAX  \\\n",
       "0  0.00632  18.0   2.31   0.0  0.538  6.575  65.2  4.0900  1.0  296.0   \n",
       "1  0.02731   0.0   7.07   0.0  0.469  6.421  78.9  4.9671  2.0  242.0   \n",
       "2  0.02729   0.0   7.07   0.0  0.469  7.185  61.1  4.9671  2.0  242.0   \n",
       "3  0.03237   0.0   2.18   0.0  0.458  6.998  45.8  6.0622  3.0  222.0   \n",
       "4  0.06905   0.0   2.18   0.0  0.458  7.147  54.2  6.0622  3.0  222.0   \n",
       "\n",
       "   PTRATIO       B  LSTAT  MEDV  \n",
       "0     15.3  396.90   4.98  24.0  \n",
       "1     17.8  396.90   9.14  21.6  \n",
       "2     17.8  392.83   4.03  34.7  \n",
       "3     18.7  394.63   2.94  33.4  \n",
       "4     18.7  396.90   5.33  36.2  "
      ]
     },
     "execution_count": 3,
     "metadata": {},
     "output_type": "execute_result"
    }
   ],
   "source": [
    "# Das \"Boston Houses Dataset\" wird von scikit-learn geladen\n",
    "boston_dataset = datasets.load_boston()\n",
    "\n",
    "# Umwandeln des Datensarzes in einen übersichtlichen pandas-Dataframe\n",
    "boston = pd.DataFrame(boston_dataset.data, columns=boston_dataset.feature_names)\n",
    "\n",
    "# Erstellen einer Spalte für die Immobilienpreise\n",
    "boston['MEDV'] = boston_dataset.target\n",
    "\n",
    "# Anzeigen einer Vorschau des Datensatzes\n",
    "boston.head()"
   ]
  },
  {
   "cell_type": "markdown",
   "metadata": {},
   "source": [
    "## Daten untersuchen\n",
    "Der Datensatz umfasst 506 unsortierte Einträge. Die Spalte `MEDV` enthält den mittleren Wert der Immobilienpreise (USD) in diesem Gebiet, geteilt durch 1000.\n",
    "\n",
    "Mit dem Ausführen der folgenden Zelle wird die Verteilung der Immobilienpreise als Histogramm visualisiert. Die Preise sind annähernd normalverteilt um etwa 20000$, was erst einmal sehr wenig erscheint. Die Immobilienpreise stammen allerdings aus den 70er Jahren und die Inflationsentwicklung wurde nicht berücksichtigt."
   ]
  },
  {
   "cell_type": "code",
   "execution_count": 4,
   "metadata": {},
   "outputs": [
    {
     "data": {
      "image/png": "[encoded data removed]",
      "text/plain": [
       "<Figure size 432x288 with 1 Axes>"
      ]
     },
     "metadata": {
      "needs_background": "light"
     },
     "output_type": "display_data"
    }
   ],
   "source": [
    "sns.distplot(boston['MEDV'], bins=30)\n",
    "plt.show()"
   ]
  },
  {
   "cell_type": "markdown",
   "metadata": {},
   "source": [
    "### Korrelation visualisieren\n",
    "Verschiedene Spalten des Datensatzes scheinen Einfluss auf den mittleren Immobilienpreis (MEDV) in einer Region zu haben. Um diese Korrelationen festzustellen, hilft es, die Daten in zweidimensionalen \"Scatter-Plots\" anzeigen zu lassen. Die Streuung der Punkte signalisiert die  Stärke einer Korrelation."
   ]
  },
  {
   "cell_type": "code",
   "execution_count": 9,
   "metadata": {},
   "outputs": [
    {
     "data": {
      "image/png": "[encoded data removed]",
      "text/plain": [
       "<Figure size 1440x360 with 3 Axes>"
      ]
     },
     "metadata": {
      "needs_background": "light"
     },
     "output_type": "display_data"
    }
   ],
   "source": [
    "# Größe der Abbildung festlegen\n",
    "plt.figure(figsize=(20, 5))\n",
    "\n",
    "# Spalten zum Visualisieren auswählen\n",
    "features = ['PTRATIO', 'RM', 'NOX']\n",
    "\n",
    "# Auf der Y-Achse ist immer der mittlere Immobilienpreis\n",
    "target = boston['MEDV']\n",
    "\n",
    "# Plot erstellen\n",
    "for i, col in enumerate(features):\n",
    "    plt.subplot(1, len(features) , i+1)\n",
    "    x = boston[col]\n",
    "    y = target\n",
    "    plt.scatter(x, y, marker='o')\n",
    "    plt.title(col)\n",
    "    plt.xlabel(col)\n",
    "    plt.ylabel('MEDV')"
   ]
  },
  {
   "cell_type": "markdown",
   "metadata": {},
   "source": [
    "#### _Aufgabe: andere Features untersuchen_\n",
    "In der obigen Codezelle werden die Korrelationen der Spalten *LSTAT*, *RM* und *NOX* untersucht. Durch Austauschen dieser Werte in der Liste `features` können andere Spalten untersucht werden. Gibt es hier noch andere, gut sichtbare Korrelationen?"
   ]
  },
  {
   "cell_type": "markdown",
   "metadata": {},
   "source": [
    "## Trainings- und Testdatensatz erstellen\n",
    "Um ein Modell zu entwickeln, welches _generalisiert_, also auch für neue Daten einsetzbar ist, ist es wichtig, unterschiedliche Datensätze für Training und Evaluation des Modells zu benutzen. Mit der Funktion `train_test_split` bringt scikit-learn eine Funktion mit, die den Datensatz mit den Immobilienpreisen zufällig in Trainings und Testdatensatz aufteilt. Das hier gewählte Verhältnis ist 80/20."
   ]
  },
  {
   "cell_type": "code",
   "execution_count": 20,
   "metadata": {},
   "outputs": [],
   "source": [
    "# Anteil des Testdatensatzes auswählen\n",
    "test_size = 0.2\n",
    "\n",
    "# Feature auswählen\n",
    "feature = 'RM'\n",
    "\n",
    "# Aufteilung erstellen\n",
    "X_train, X_test, y_train, y_test = train_test_split(boston[feature], boston['MEDV'], test_size = test_size, random_state=5)"
   ]
  },
  {
   "cell_type": "markdown",
   "metadata": {},
   "source": [
    "## Regressionsmodell mit `scikit-learn` erstellen\n",
    "scikit-learn bringt eine ganze Reihe von [fertigen Regressionsmodellen](https://scikit-learn.org/stable/supervised_learning.html#supervised-learning) mit. Das Modell für die lineare Regression wird in der folgenden Codezelle mit einem einfachen Funktionsaufruf erzeugt."
   ]
  },
  {
   "cell_type": "code",
   "execution_count": 21,
   "metadata": {},
   "outputs": [],
   "source": [
    "# Modell instanziieren\n",
    "regr = linear_model.LinearRegression()"
   ]
  },
  {
   "cell_type": "markdown",
   "metadata": {},
   "source": [
    "## Modell trainieren\n",
    "Nun werden die Koeffizienten des Regressionsmodells für den Boston Housing Prices Datensatz angepasst. Dies geschieht in scikit-learn durch den Funktionsaufruf `regr.fit()` in der folgenden Codezelle.\n",
    "\n",
    "Da nur ein Feature des Datensatzes verwendet wird, muss vorher noch die Dimension der Eingabedaten angepasst werden. "
   ]
  },
  {
   "cell_type": "code",
   "execution_count": 22,
   "metadata": {},
   "outputs": [],
   "source": [
    "# Anpassen des Input-Formats\n",
    "X_train = np.array(X_train).reshape(-1, 1)\n",
    "X_test = np.array(X_test).reshape(-1, 1)\n",
    "\n",
    "# Trainieren des Modells mit den Trainingsdaten\n",
    "history = regr.fit(X_train, y_train)"
   ]
  },
  {
   "cell_type": "code",
   "execution_count": 23,
   "metadata": {},
   "outputs": [],
   "source": [
    "# Make predictions using the testing set\n",
    "y_pred = regr.predict(X_test)"
   ]
  },
  {
   "cell_type": "code",
   "execution_count": 24,
   "metadata": {},
   "outputs": [
    {
     "name": "stdout",
     "output_type": "stream",
     "text": [
      "Coefficients: \n",
      " [8.82345634]\n",
      "Mean squared error: 23.97\n",
      "Variance score: 0.69\n"
     ]
    }
   ],
   "source": [
    "# The coefficients\n",
    "print('Coefficients: \\n', regr.coef_)\n",
    "# The mean squared error\n",
    "print(\"Mean squared error: %.2f\"\n",
    "      % mean_squared_error(y_test, y_pred))\n",
    "# Explained variance score: 1 is perfect prediction\n",
    "print('Variance score: %.2f' % r2_score(y_test, y_pred))"
   ]
  },
  {
   "cell_type": "code",
   "execution_count": 25,
   "metadata": {},
   "outputs": [
    {
     "data": {
      "image/png": "[encoded data removed]",
      "text/plain": [
       "<Figure size 432x288 with 1 Axes>"
      ]
     },
     "metadata": {
      "needs_background": "light"
     },
     "output_type": "display_data"
    }
   ],
   "source": [
    "# Plot outputs\n",
    "plt.scatter(X_test, y_test)\n",
    "plt.plot(X_test, y_pred, color='crimson', linewidth=3)\n",
    "\n",
    "#plt.xticks(())\n",
    "#plt.yticks(())\n",
    "\n",
    "plt.show()"
   ]
  },
  {
   "cell_type": "markdown",
   "metadata": {},
   "source": [
    "## Aufgaben\n",
    "* Wie ändert sich die mittlere quadratische Abweichung (Mean Squared Error), wenn andere Attribute (Features) im Trainingsdatensatz genutzt werden?"
   ]
  },
  {
   "cell_type": "code",
   "execution_count": null,
   "metadata": {},
   "outputs": [],
   "source": []
  }
 ],
 "metadata": {
  "kernelspec": {
   "display_name": "Python 3",
   "language": "python",
   "name": "python3"
  },
  "language_info": {
   "codemirror_mode": {
    "name": "ipython",
    "version": 3
   },
   "file_extension": ".py",
   "mimetype": "text/x-python",
   "name": "python",
   "nbconvert_exporter": "python",
   "pygments_lexer": "ipython3",
   "version": "3.6.7"
  }
 },
 "nbformat": 4,
 "nbformat_minor": 2
}
